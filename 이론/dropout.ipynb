{
 "cells": [
  {
   "cell_type": "markdown",
   "id": "292f61ab",
   "metadata": {},
   "source": [
    "## 드롭아웃 (Dropout)\n",
    "\n",
    "- 과적합을 해결하는 방법으로 드롭아웃이 있다.\n",
    "\n",
    "- 신경망 모델이 과적합되는 것을 피하기 위한 방법으로, 학습 과정 중 임의로 일부 노드들을 학습에서 제외시킨다.\n",
    "\n",
    "![image1](../images/Dropout/image1.png)"
   ]
  },
  {
   "cell_type": "markdown",
   "id": "3003c086",
   "metadata": {},
   "source": [
    "### 파이토치에서 드롭아웃을 구현하는 예시 코드"
   ]
  },
  {
   "cell_type": "code",
   "execution_count": 1,
   "id": "aba7d32d",
   "metadata": {},
   "outputs": [],
   "source": [
    "import torch\n",
    "\n",
    "class DropoutModel(torch.nn.Module):\n",
    "    def __init__(self):\n",
    "        super(DropoutModel, self).__init__()\n",
    "        self.layer1 = torch.nn.Linear(784, 1200)\n",
    "        self.dropout1 = torch.nn.Dropout(0.5) # 50%의 노드를 무작위로 선택하여 사용하지 않겠다는 의미\n",
    "        self.layer2 = torch.Linear(1200, 1200)\n",
    "        self.dropout2 = torch.nn.Dropout(0.5)\n",
    "        self.layer3 = torch.nn.Linear(1200, 10)\n",
    "\n",
    "    def forward(self, x):\n",
    "        x = F.relu(self.layer1(x))\n",
    "        x = self.dropout1(x)\n",
    "        x = F.relu(self.layer2(x))\n",
    "        x = self.dropout2(x)\n",
    "        return self.layer3(x)"
   ]
  }
 ],
 "metadata": {
  "kernelspec": {
   "display_name": "Python 3",
   "language": "python",
   "name": "python3"
  },
  "language_info": {
   "codemirror_mode": {
    "name": "ipython",
    "version": 3
   },
   "file_extension": ".py",
   "mimetype": "text/x-python",
   "name": "python",
   "nbconvert_exporter": "python",
   "pygments_lexer": "ipython3",
   "version": "3.12.6"
  }
 },
 "nbformat": 4,
 "nbformat_minor": 5
}
