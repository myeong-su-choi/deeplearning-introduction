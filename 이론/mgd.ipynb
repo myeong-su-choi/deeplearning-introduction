{
 "cells": [
  {
   "cell_type": "markdown",
   "id": "ca6f9952",
   "metadata": {},
   "source": [
    "## 미니 배치 경사 하강법(mini-batch gradient descent)\n",
    "\n",
    "- 미니 배치 경사 하강법은 전체 데이터셋을 미니 배치 여러 개로 나누고, 미니 배치 한 개마다 기울기를 구한 후 그것의 평균 기울기를 이용하여 모델을 업데이트해서 학습하는 방법이다.\n",
    "\n",
    "![Image](https://github.com/user-attachments/assets/678d2ba5-c503-47a5-811f-c984acb8a5f1)\n",
    "\n",
    "- 미니 배치 경사 하강법은 전체 데이터를 계산하는 것보다 빠르며, 확률적 경사 하강법보다 안정적이라는 장점이 있기 때문에 실제로 가장 많이 사용된다.\n",
    "\n",
    "- 다음 그림의 오른쪽과 같이 파라미터 변경 폭이 확률적 경사 하강법에 비해 안정적이면서 속도도 빠르다.\n",
    "\n",
    "![Image](https://github.com/user-attachments/assets/3d81ad69-d40b-4e68-947b-945a331a5881)"
   ]
  },
  {
   "cell_type": "markdown",
   "id": "2008b153",
   "metadata": {},
   "source": [
    "### 파이토치에서는 다음과 같이 구현할 수 있다."
   ]
  },
  {
   "cell_type": "code",
   "execution_count": null,
   "id": "d8dda251",
   "metadata": {},
   "outputs": [],
   "source": [
    "class CustomDataset(Dataset):\n",
    "    def __init__(self):\n",
    "        self.x_data = [[1, 2, 3], [4, 5, 6], [7, 8, 9]]\n",
    "        self.y_data = [[12], [18], [11]]\n",
    "        def __len__(self):\n",
    "            return len(self.x_data)\n",
    "        def __getitem__(self, idx):\n",
    "            x = torch.FloatTensor(self.x_data[idx])\n",
    "            y = torch.FloatTensro(self.y_data[idx])\n",
    "            return x, y\n",
    "\n",
    "dataset = CustomDataset()\n",
    "dataloader = DataLoader(\n",
    "    datset, # 데이터셋\n",
    "    batch_size=2, # 미니 배치 크기로 2를 사용하겠다는 의미이다.\n",
    "    shuffle=True  # 데이터를 불러올 때마다 랜덤으로 섞어서 가져온다.\n",
    ")"
   ]
  }
 ],
 "metadata": {
  "kernelspec": {
   "display_name": "Python 3",
   "language": "python",
   "name": "python3"
  },
  "language_info": {
   "name": "python",
   "version": "3.12.6"
  }
 },
 "nbformat": 4,
 "nbformat_minor": 5
}
