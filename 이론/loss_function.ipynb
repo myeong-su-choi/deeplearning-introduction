{
 "cells": [
  {
   "cell_type": "markdown",
   "id": "ec0ec0d6",
   "metadata": {},
   "source": [
    "## 손실 함수\n",
    "\n",
    "- 경사 하강법은 학습률($\\eta$, learning rate)과 손실 함수의 순간 기울기를 이용하여 가중치를 업데이트 하는 방법이다.\n",
    "\n",
    "- 즉, 미분의 기울기를 이용하여 오차를 비교하고 최소화하는 방향으로 이동시키는 방법이다.\n",
    "\n",
    "- 이때 오차를 구하는 방법이 손실 함수이다.\n",
    "\n",
    "- 즉, 손실 함수는 학습을 통해 얻은 데이터의 추정치가 실제 데이터와 얼마나 차이가 나는지 평가하는 지표라고 할 수 있다.\n",
    "\n",
    "- 이 값이 클수록 많이 틀렸다는 의미이고, 이 값이 '0'에 가까우면 완벽하게 추정할 수 있다는 의미이다.\n",
    "\n",
    "- 대표적인 손실 함수로는 평균 제곱 오차(Mean Squared Error, MSE)와 크로스 엔트로피 오차(Cross Entropy Error, CEE)가 있다."
   ]
  },
  {
   "cell_type": "markdown",
   "id": "d7e643a0",
   "metadata": {},
   "source": [
    "### 평균 제곱 오차를 구하는 수식\n",
    "\n",
    "$$\n",
    "\\text{MSE} = \\frac{1}{n} \\sum_{i=1}^n (y_i - \\hat{y_i})^2\n",
    "$$\n",
    "\n",
    "$$\n",
    "\\begin{aligned}\n",
    "& i: \\text{데이터의 차원 인덱스} \\\\\n",
    "& y_i: \\text{정답 레이블} \\\\\n",
    "& \\hat{y_i}: \\text{신경망의 출력(신경망이 추정한 값)}\n",
    "\\end{aligned}\n",
    "$$"
   ]
  },
  {
   "cell_type": "markdown",
   "id": "e3881c2f",
   "metadata": {},
   "source": [
    "### 파이토치에서는 다음과 같이 사용"
   ]
  },
  {
   "cell_type": "code",
   "execution_count": null,
   "id": "8036e456",
   "metadata": {},
   "outputs": [],
   "source": [
    "import torch\n",
    "\n",
    "loss_fn = torch.nn.MSELoss(reduction='sum')\n",
    "y_pred = model(x)\n",
    "loss = loss_fn(y_pred, y)"
   ]
  },
  {
   "cell_type": "markdown",
   "id": "3f4eb0cc",
   "metadata": {},
   "source": [
    "### 크로스 엔트로피 오차\n",
    "\n",
    "- 크로스 엔트로피 오차(CEE)는 분류(classification) 문제에서 원-핫 인코등(one-hot encoding) 했을 때만 사용할 수 있는 오차 계산법이다.\n",
    "\n",
    "- 일반적으로 분류 모델에서는 데이터의 출력을 0과 1로 구분하기 위해 시그모이드 함수를 사용한다.\n",
    "\n",
    "- 시그모이드 함수에 포함된 자연 상수 e 때문에 평균 제곱 오차를 적용하면 매끄럽지 못한 그래프(울퉁불퉁한 그래프)가 출력된다.\n",
    "\n",
    "- 크로스 엔트로피 손실 함수를 사용하는데, 이 손실 함수를 적용할 경우 경사 하강법 과정에서 학습이 지역 최소점에서 멈출 수 있다.\n",
    "\n",
    "- 이것을 방지하고자 자연 상수 e에 반대되는 자연 로그를 모델의 출력 값에 취한다."
   ]
  },
  {
   "cell_type": "markdown",
   "id": "efbdf4b9",
   "metadata": {},
   "source": [
    "#### Binary Cross Entropy를 구하는 수식\n",
    "- 하나의 데이터 샘플에 대한 손실 함수\n",
    "- 이진 분류에 사용 (클래스 구분이 1 또는 0)\n",
    "\n",
    "$$\n",
    "\\text{Binary Cross Entropy} = -(y log\\hat{y} + (1 - y)log(1 - \\hat{y}))\n",
    "$$\n",
    "\n",
    "$$\n",
    "\\begin{aligned}\n",
    "& \\hat{y} : \\text{신경망의 출력(신경망이 추정한 값)} \\\\\n",
    "& y : \\text{정답 레이블}\n",
    "\\end{aligned}\n",
    "$$"
   ]
  },
  {
   "cell_type": "markdown",
   "id": "9d3bb3b9",
   "metadata": {},
   "source": [
    "#### Cross Entropy를 구하는 수식\n",
    "- 하나의 데이터 샘플에 대한 손실 함수\n",
    "- 다중 분류에 사용 (클래스 구분이 1의 위치)\n",
    "\n",
    "$$\n",
    "\\text{Cross Entropy} = -\\sum_{i=1}^n y_i log\\hat{y_i}\n",
    "$$\n",
    "\n",
    "$$\n",
    "\\begin{aligned}\n",
    "& \\hat{y} : \\text{신경망의 출력(신경망이 추정한 값)} \\\\\n",
    "& y : \\text{정답 레이블} \\\\\n",
    "& i : \\text{데이터의 차원 개수}\n",
    "\\end{aligned}\n",
    "$$"
   ]
  },
  {
   "cell_type": "markdown",
   "id": "5877762f",
   "metadata": {},
   "source": [
    "#### 파이토치에서는 다음과 같이 사용"
   ]
  },
  {
   "cell_type": "code",
   "execution_count": null,
   "id": "62a339aa",
   "metadata": {},
   "outputs": [],
   "source": [
    "loss = nn.CrossEntropyLoss()\n",
    "input = torch.randn(5, 6, requires_grad=True) # torch.randn은 평균이 0이고 표준편차가 1인 가우시안 정규분포를 이용하여 숫자를 생성 \n",
    "target = torch.empty(5, dtype=torch.long).random_(5) # torch.empty는 dtype torch.float32의 랜덤한 값으로 채워진 텐서를 반환\n",
    "output = loss(input, target)\n",
    "output.backward()"
   ]
  }
 ],
 "metadata": {
  "kernelspec": {
   "display_name": "Python 3",
   "language": "python",
   "name": "python3"
  },
  "language_info": {
   "codemirror_mode": {
    "name": "ipython",
    "version": 3
   },
   "file_extension": ".py",
   "mimetype": "text/x-python",
   "name": "python",
   "nbconvert_exporter": "python",
   "pygments_lexer": "ipython3",
   "version": "3.12.6"
  }
 },
 "nbformat": 4,
 "nbformat_minor": 5
}
