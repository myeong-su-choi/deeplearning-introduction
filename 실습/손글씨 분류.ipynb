{
 "cells": [
  {
   "cell_type": "markdown",
   "id": "46d36833-05af-4c6e-879a-b248508daa00",
   "metadata": {},
   "source": [
    "## 손글씨 분류1"
   ]
  },
  {
   "cell_type": "code",
   "execution_count": 6,
   "id": "9a995c31-947b-4fe1-9694-b6d9f6867946",
   "metadata": {},
   "outputs": [],
   "source": [
    "# load_digits()를 통해 이미지 데이터 로드\n",
    "%matplotlib inline\n",
    "import matplotlib.pyplot as plt # 시각화를 위한 맷플롯립\n",
    "from sklearn.datasets import load_digits \n",
    "\n",
    "digits = load_digits() # 1,797개의 이미지 데이터 로드"
   ]
  },
  {
   "cell_type": "code",
   "execution_count": 7,
   "id": "b7b817f2-0e5b-44db-8f33-a1000e392968",
   "metadata": {},
   "outputs": [
    {
     "name": "stdout",
     "output_type": "stream",
     "text": [
      "[[ 0.  0.  5. 13.  9.  1.  0.  0.]\n",
      " [ 0.  0. 13. 15. 10. 15.  5.  0.]\n",
      " [ 0.  3. 15.  2.  0. 11.  8.  0.]\n",
      " [ 0.  4. 12.  0.  0.  8.  8.  0.]\n",
      " [ 0.  5.  8.  0.  0.  9.  8.  0.]\n",
      " [ 0.  4. 11.  0.  1. 12.  7.  0.]\n",
      " [ 0.  2. 14.  5. 10. 12.  0.  0.]\n",
      " [ 0.  0.  6. 13. 10.  0.  0.  0.]]\n"
     ]
    }
   ],
   "source": [
    "# 첫 번째 샘플 출력, 0을 흰색, 0보다 큰 숫자를 검은색 점이라고 볼 수 있음\n",
    "print(digits.images[0])"
   ]
  },
  {
   "cell_type": "code",
   "execution_count": 8,
   "id": "3e34d173",
   "metadata": {},
   "outputs": [
    {
     "name": "stdout",
     "output_type": "stream",
     "text": [
      "0\n"
     ]
    }
   ],
   "source": [
    "# 첫 번째 샘플의 레이블 확인\n",
    "print(digits.target[0])"
   ]
  },
  {
   "cell_type": "code",
   "execution_count": 9,
   "id": "b1e61ef8",
   "metadata": {},
   "outputs": [
    {
     "name": "stdout",
     "output_type": "stream",
     "text": [
      "전체 샘플의 수 : 1797\n"
     ]
    }
   ],
   "source": [
    "# 전체 샘플 갯수 확인\n",
    "print(\"전체 샘플의 수 : {}\".format(len(digits.images)))"
   ]
  },
  {
   "cell_type": "code",
   "execution_count": 10,
   "id": "375c57ab-97c5-435c-9820-b7639ca646c8",
   "metadata": {},
   "outputs": [
    {
     "data": {
      "image/png": "[encoded data removed]",
      "text/plain": [
       "<Figure size 640x480 with 5 Axes>"
      ]
     },
     "metadata": {},
     "output_type": "display_data"
    }
   ],
   "source": [
    "# 전체 샘플 중 상위 5개의 샘플만 시각화\n",
    "images_and_labels = list(zip(digits.images, digits.target))\n",
    "for index, (image, label) in enumerate(images_and_labels[:5]): # 5개의 샘플만 출력\n",
    "    plt.subplot(2, 5, index + 1)\n",
    "    plt.axis('off')\n",
    "    plt.imshow(image, cmap=plt.cm.gray_r, interpolation='nearest')\n",
    "    plt.title('sample: %i' % label)"
   ]
  },
  {
   "cell_type": "code",
   "execution_count": 11,
   "id": "6dea8377-74ff-4121-aa76-737f59e42d15",
   "metadata": {},
   "outputs": [
    {
     "name": "stdout",
     "output_type": "stream",
     "text": [
      "0 번 인덱스 샘플의 레이블 :  0\n",
      "1 번 인덱스 샘플의 레이블 :  1\n",
      "2 번 인덱스 샘플의 레이블 :  2\n",
      "3 번 인덱스 샘플의 레이블 :  3\n",
      "4 번 인덱스 샘플의 레이블 :  4\n"
     ]
    }
   ],
   "source": [
    "# 상위 5개의 레이블 확인\n",
    "for i in range(5):\n",
    "    print(i, '번 인덱스 샘플의 레이블 : ', digits.target[i])"
   ]
  },
  {
   "cell_type": "code",
   "execution_count": 12,
   "id": "fd2fca4f-2acb-4e38-ac89-55777b25cc9e",
   "metadata": {},
   "outputs": [
    {
     "name": "stdout",
     "output_type": "stream",
     "text": [
      "[ 0.  0.  5. 13.  9.  1.  0.  0.  0.  0. 13. 15. 10. 15.  5.  0.  0.  3.\n",
      " 15.  2.  0. 11.  8.  0.  0.  4. 12.  0.  0.  8.  8.  0.  0.  5.  8.  0.\n",
      "  0.  9.  8.  0.  0.  4. 11.  0.  1. 12.  7.  0.  0.  2. 14.  5. 10. 12.\n",
      "  0.  0.  0.  0.  6. 13. 10.  0.  0.  0.]\n"
     ]
    }
   ],
   "source": [
    "# digits.data를 이용해 첫 번째 샘플 출력\n",
    "print(digits.data[0])"
   ]
  },
  {
   "cell_type": "code",
   "execution_count": 13,
   "id": "3cce0909-025d-4b1f-8df1-cfb3c0ded170",
   "metadata": {},
   "outputs": [],
   "source": [
    "# data를 X에 저장하고 레이블을 Y에 저장\n",
    "X = digits.data   # 이미지. 즉, 특성 행렬\n",
    "Y = digits.target   # 각 이미지에 대한 레이블"
   ]
  },
  {
   "cell_type": "code",
   "execution_count": 14,
   "id": "12685a93-ba3a-41ec-95e4-81949577c813",
   "metadata": {},
   "outputs": [],
   "source": [
    "# 도구 임포트\n",
    "import torch \n",
    "import torch.nn as nn\n",
    "from torch import optim"
   ]
  },
  {
   "cell_type": "code",
   "execution_count": 15,
   "id": "82acf9c5",
   "metadata": {},
   "outputs": [],
   "source": [
    "# 모델 정의\n",
    "model = nn.Sequential(\n",
    "    nn.Linear(64, 32), # input_layer = 64, hidden_layer1 = 32\n",
    "    nn.ReLU(),\n",
    "    nn.Linear(32, 16), # hidden_layer1 = 32, hidden_layer2 = 16\n",
    "    nn.ReLU(),\n",
    "    nn.Linear(16, 10) # hidden_layer2 = 16, output_layer = 10\n",
    ")"
   ]
  },
  {
   "cell_type": "code",
   "execution_count": 16,
   "id": "715df74c",
   "metadata": {},
   "outputs": [],
   "source": [
    "# 데이터 로드\n",
    "X = torch.tensor(X, dtype=torch.float32)\n",
    "Y = torch.tensor(Y, dtype=torch.int64)"
   ]
  },
  {
   "cell_type": "code",
   "execution_count": 17,
   "id": "6c8a724f",
   "metadata": {},
   "outputs": [],
   "source": [
    "# 비용함수 정의\n",
    "loss_fn = nn.CrossEntropyLoss() # 이 비용 함수는 소프트맥스 함수를 포함하고 있음."
   ]
  },
  {
   "cell_type": "code",
   "execution_count": 18,
   "id": "5557dac9",
   "metadata": {},
   "outputs": [],
   "source": [
    "# 옵티마이저 정의\n",
    "optimizer = optim.Adam(model.parameters())"
   ]
  },
  {
   "cell_type": "code",
   "execution_count": 19,
   "id": "306bd1a5",
   "metadata": {},
   "outputs": [],
   "source": [
    "# 손실값\n",
    "losses = []"
   ]
  },
  {
   "cell_type": "code",
   "execution_count": 20,
   "id": "85851647",
   "metadata": {},
   "outputs": [
    {
     "name": "stdout",
     "output_type": "stream",
     "text": [
      "Epoch    0/100 Cost: 2.512440\n",
      "Epoch   10/100 Cost: 2.145337\n",
      "Epoch   20/100 Cost: 1.917880\n",
      "Epoch   30/100 Cost: 1.640436\n",
      "Epoch   40/100 Cost: 1.333694\n",
      "Epoch   50/100 Cost: 1.023629\n",
      "Epoch   60/100 Cost: 0.743526\n",
      "Epoch   70/100 Cost: 0.528852\n",
      "Epoch   80/100 Cost: 0.393037\n",
      "Epoch   90/100 Cost: 0.308265\n"
     ]
    }
   ],
   "source": [
    "# 훈련 실행\n",
    "for epoch in range(100):\n",
    "    optimizer.zero_grad()\n",
    "    y_pred = model(X) # forward 연산\n",
    "    loss = loss_fn(y_pred, Y)\n",
    "    loss.backward()\n",
    "    optimizer.step()\n",
    "\n",
    "    if epoch % 10 == 0:\n",
    "        print(\"Epoch {:4d}/{} Cost: {:.6f}\".format(epoch, 100, loss.item()))\n",
    "\n",
    "    losses.append(loss.item())"
   ]
  },
  {
   "cell_type": "code",
   "execution_count": 21,
   "id": "29fc599b",
   "metadata": {},
   "outputs": [
    {
     "data": {
      "text/plain": [
       "[<matplotlib.lines.Line2D at 0x1b349cfde80>]"
      ]
     },
     "execution_count": 21,
     "metadata": {},
     "output_type": "execute_result"
    },
    {
     "data": {
      "image/png": "[encoded data removed]",
      "text/plain": [
       "<Figure size 640x480 with 1 Axes>"
      ]
     },
     "metadata": {},
     "output_type": "display_data"
    }
   ],
   "source": [
    "# 손실값 확인\n",
    "plt.plot(losses)"
   ]
  },
  {
   "cell_type": "code",
   "execution_count": 22,
   "id": "af9a5878",
   "metadata": {},
   "outputs": [
    {
     "name": "stdout",
     "output_type": "stream",
     "text": [
      "예측 결과: 4\n",
      "이 이미지 데이터의 정답 레이블은 4.000000입니다.\n"
     ]
    },
    {
     "data": {
      "image/png": "[encoded data removed]",
      "text/plain": [
       "<Figure size 640x480 with 1 Axes>"
      ]
     },
     "metadata": {},
     "output_type": "display_data"
    }
   ],
   "source": [
    "# 모델 테스트\n",
    "import random\n",
    "\n",
    "r = random.randint(0, len(X) - 1)\n",
    "index = r\n",
    "model.eval()\n",
    "data = X[index]\n",
    "output = model(data)\n",
    "_, predicted = torch.max(output.data, 0)\n",
    "\n",
    "print(\"예측 결과: {}\".format(predicted))\n",
    "\n",
    "X_test_show = (X[index]).numpy()\n",
    "plt.imshow(X_test_show.reshape(8, 8), cmap='gray')\n",
    "print(\"이 이미지 데이터의 정답 레이블은 {:0f}입니다.\".format(Y[index]))"
   ]
  },
  {
   "cell_type": "markdown",
   "id": "35bd7762-830b-4978-9128-31976ad09954",
   "metadata": {},
   "source": [
    "## 손글씨 분류2"
   ]
  },
  {
   "cell_type": "code",
   "execution_count": 23,
   "id": "5186fbc1",
   "metadata": {},
   "outputs": [],
   "source": [
    "import torch.nn as nn\n",
    "import torch\n",
    "import matplotlib.pyplot as plt\n",
    "import numpy as np\n",
    "from torchvision import datasets\n",
    "from torchvision import transforms\n",
    "from torch.utils.data import DataLoader\n",
    "import torch.optim as optim\n",
    "import os\n",
    "os.environ['KMP_DUPLICATE_LIB_OK'] = 'True'"
   ]
  },
  {
   "cell_type": "code",
   "execution_count": 24,
   "id": "5dfaafc8",
   "metadata": {},
   "outputs": [],
   "source": [
    "class Net(nn.Module):\n",
    "    def __init__(self):\n",
    "        super(Net, self).__init__()\n",
    "        self.fc1 = nn.Linear(784, 100)\n",
    "        self.relu = nn.ReLU()\n",
    "        self.fc2 = nn.Linear(100, 100)\n",
    "        self.fc3 = nn.Linear(100, 10)\n",
    "    \n",
    "    def forward(self, x):\n",
    "        x1 = self.fc1(x)\n",
    "        x2 = self.relu(x1)\n",
    "        x3 = self.fc2(x2)\n",
    "        x4 = self.relu(x3)\n",
    "        x5 = self.fc3(x4)\n",
    "    \n",
    "        return x5"
   ]
  },
  {
   "cell_type": "code",
   "execution_count": 25,
   "id": "b435b1fc",
   "metadata": {},
   "outputs": [
    {
     "name": "stdout",
     "output_type": "stream",
     "text": [
      "Downloading http://yann.lecun.com/exdb/mnist/train-images-idx3-ubyte.gz\n",
      "Failed to download (trying next):\n",
      "HTTP Error 404: Not Found\n",
      "\n",
      "Downloading https://ossci-datasets.s3.amazonaws.com/mnist/train-images-idx3-ubyte.gz\n",
      "Downloading https://ossci-datasets.s3.amazonaws.com/mnist/train-images-idx3-ubyte.gz to ./MNIST_data\\MNIST\\raw\\train-images-idx3-ubyte.gz\n"
     ]
    },
    {
     "name": "stderr",
     "output_type": "stream",
     "text": [
      "100.0%\n"
     ]
    },
    {
     "name": "stdout",
     "output_type": "stream",
     "text": [
      "Extracting ./MNIST_data\\MNIST\\raw\\train-images-idx3-ubyte.gz to ./MNIST_data\\MNIST\\raw\n",
      "\n",
      "Downloading http://yann.lecun.com/exdb/mnist/train-labels-idx1-ubyte.gz\n",
      "Failed to download (trying next):\n",
      "HTTP Error 404: Not Found\n",
      "\n",
      "Downloading https://ossci-datasets.s3.amazonaws.com/mnist/train-labels-idx1-ubyte.gz\n",
      "Downloading https://ossci-datasets.s3.amazonaws.com/mnist/train-labels-idx1-ubyte.gz to ./MNIST_data\\MNIST\\raw\\train-labels-idx1-ubyte.gz\n"
     ]
    },
    {
     "name": "stderr",
     "output_type": "stream",
     "text": [
      "100.0%\n"
     ]
    },
    {
     "name": "stdout",
     "output_type": "stream",
     "text": [
      "Extracting ./MNIST_data\\MNIST\\raw\\train-labels-idx1-ubyte.gz to ./MNIST_data\\MNIST\\raw\n",
      "\n",
      "Downloading http://yann.lecun.com/exdb/mnist/t10k-images-idx3-ubyte.gz\n",
      "Failed to download (trying next):\n",
      "HTTP Error 404: Not Found\n",
      "\n",
      "Downloading https://ossci-datasets.s3.amazonaws.com/mnist/t10k-images-idx3-ubyte.gz\n",
      "Downloading https://ossci-datasets.s3.amazonaws.com/mnist/t10k-images-idx3-ubyte.gz to ./MNIST_data\\MNIST\\raw\\t10k-images-idx3-ubyte.gz\n"
     ]
    },
    {
     "name": "stderr",
     "output_type": "stream",
     "text": [
      "100.0%\n"
     ]
    },
    {
     "name": "stdout",
     "output_type": "stream",
     "text": [
      "Extracting ./MNIST_data\\MNIST\\raw\\t10k-images-idx3-ubyte.gz to ./MNIST_data\\MNIST\\raw\n",
      "\n",
      "Downloading http://yann.lecun.com/exdb/mnist/t10k-labels-idx1-ubyte.gz\n",
      "Failed to download (trying next):\n",
      "HTTP Error 404: Not Found\n",
      "\n",
      "Downloading https://ossci-datasets.s3.amazonaws.com/mnist/t10k-labels-idx1-ubyte.gz\n",
      "Downloading https://ossci-datasets.s3.amazonaws.com/mnist/t10k-labels-idx1-ubyte.gz to ./MNIST_data\\MNIST\\raw\\t10k-labels-idx1-ubyte.gz\n"
     ]
    },
    {
     "name": "stderr",
     "output_type": "stream",
     "text": [
      "100.0%"
     ]
    },
    {
     "name": "stdout",
     "output_type": "stream",
     "text": [
      "Extracting ./MNIST_data\\MNIST\\raw\\t10k-labels-idx1-ubyte.gz to ./MNIST_data\\MNIST\\raw\n",
      "\n"
     ]
    },
    {
     "name": "stderr",
     "output_type": "stream",
     "text": [
      "\n"
     ]
    }
   ],
   "source": [
    "download_root = './MNIST_data'\n",
    "\n",
    "dataset1 = datasets.MNIST(root=download_root,\n",
    "                        train=True,\n",
    "                        transform=transforms.ToTensor(),\n",
    "                        download=True)\n",
    "\n",
    "dataset2 = datasets.MNIST(root=download_root,\n",
    "                        train=False,\n",
    "                        transform=transforms.ToTensor(),\n",
    "                        download=True)"
   ]
  },
  {
   "cell_type": "code",
   "execution_count": 26,
   "id": "5b743c81",
   "metadata": {},
   "outputs": [],
   "source": [
    "batch_s = 100\n",
    "\n",
    "# training dataset: dataset1_loader의 len은 600\n",
    "# test dataset: dataset2_loader의 len은 100\n",
    "dataset1_loader = DataLoader(dataset1, batch_size=batch_s)\n",
    "dataset2_loader = DataLoader(dataset2, batch_size=batch_s)"
   ]
  },
  {
   "cell_type": "code",
   "execution_count": 27,
   "id": "ceef7d74",
   "metadata": {},
   "outputs": [],
   "source": [
    "model_dict = {}\n",
    "loss_dict = {}\n",
    "accuracy_dict = {}\n",
    "\n",
    "# optimizer에 따른 학습 정도를 살펴볼 4가지 테스트 케이스\n",
    "optimizer_case = ['SGD', 'Adam', 'AdaGrad', 'RMSprop']\n",
    "for key in optimizer_case:\n",
    "    model_dict[key] = Net()\n",
    "    loss_dict[key] = []\n",
    "    accuracy_dict[key] = []"
   ]
  },
  {
   "cell_type": "code",
   "execution_count": 28,
   "id": "cb3b9e93",
   "metadata": {},
   "outputs": [],
   "source": [
    "# 4가지 테스트케이스에 대한 optimizer  정의\n",
    "optimizer_dict = {}\n",
    "optimizer_dict['SGD'] = optim.SGD(model_dict['SGD'].parameters(), lr=0.001)\n",
    "optimizer_dict['Adam'] = optim.Adam(model_dict['Adam'].parameters(), lr=0.001)\n",
    "optimizer_dict['AdaGrad'] = optim.Adagrad(model_dict['AdaGrad'].parameters(), lr=0.001)\n",
    "optimizer_dict['RMSprop'] = optim.RMSprop(model_dict['RMSprop'].parameters(), lr=0.001)"
   ]
  },
  {
   "cell_type": "code",
   "execution_count": 29,
   "id": "ca291454",
   "metadata": {},
   "outputs": [],
   "source": [
    "# loss_function, total batch size, epoch 정의\n",
    "loss_function = nn.CrossEntropyLoss()\n",
    "total_batch = len(dataset1_loader) # 600 (60000 / 100) => (train dataset / batch_size)\n",
    "epochs = np.arange(1, 16)"
   ]
  },
  {
   "cell_type": "code",
   "execution_count": 30,
   "id": "8aa2d6ed",
   "metadata": {},
   "outputs": [
    {
     "name": "stdout",
     "output_type": "stream",
     "text": [
      "SGD\n",
      "epoch : 1 | loss : 2.298786\n",
      "Accuracy : 19.28\n",
      "epoch : 2 | loss : 2.276762\n",
      "Accuracy : 43.04\n",
      "epoch : 3 | loss : 2.250574\n",
      "Accuracy : 50.07\n",
      "epoch : 4 | loss : 2.216076\n",
      "Accuracy : 52.37\n",
      "epoch : 5 | loss : 2.167581\n",
      "Accuracy : 54.14\n",
      "epoch : 6 | loss : 2.099116\n",
      "Accuracy : 56.01\n",
      "epoch : 7 | loss : 2.004493\n",
      "Accuracy : 59.94\n",
      "epoch : 8 | loss : 1.878833\n",
      "Accuracy : 65.41\n",
      "epoch : 9 | loss : 1.722103\n",
      "Accuracy : 69.03\n",
      "epoch : 10 | loss : 1.541622\n",
      "Accuracy : 71.33\n",
      "epoch : 11 | loss : 1.354069\n",
      "Accuracy : 73.80\n",
      "epoch : 12 | loss : 1.180500\n",
      "Accuracy : 76.23\n",
      "epoch : 13 | loss : 1.034760\n",
      "Accuracy : 78.39\n",
      "epoch : 14 | loss : 0.919184\n",
      "Accuracy : 79.97\n",
      "epoch : 15 | loss : 0.829477\n",
      "Accuracy : 81.15\n",
      "Adam\n",
      "epoch : 1 | loss : 0.410721\n",
      "Accuracy : 93.26\n",
      "epoch : 2 | loss : 0.180954\n",
      "Accuracy : 94.96\n",
      "epoch : 3 | loss : 0.127068\n",
      "Accuracy : 95.46\n",
      "epoch : 4 | loss : 0.095872\n",
      "Accuracy : 95.58\n",
      "epoch : 5 | loss : 0.075690\n",
      "Accuracy : 95.64\n",
      "epoch : 6 | loss : 0.060935\n",
      "Accuracy : 96.38\n",
      "epoch : 7 | loss : 0.048844\n",
      "Accuracy : 96.78\n",
      "epoch : 8 | loss : 0.039448\n",
      "Accuracy : 97.11\n",
      "epoch : 9 | loss : 0.032401\n",
      "Accuracy : 97.16\n",
      "epoch : 10 | loss : 0.027788\n",
      "Accuracy : 97.38\n",
      "epoch : 11 | loss : 0.023399\n",
      "Accuracy : 97.18\n",
      "epoch : 12 | loss : 0.019819\n",
      "Accuracy : 97.22\n",
      "epoch : 13 | loss : 0.018863\n",
      "Accuracy : 97.36\n",
      "epoch : 14 | loss : 0.016233\n",
      "Accuracy : 97.29\n",
      "epoch : 15 | loss : 0.013700\n",
      "Accuracy : 97.40\n",
      "AdaGrad\n",
      "epoch : 1 | loss : 0.937920\n",
      "Accuracy : 86.83\n",
      "epoch : 2 | loss : 0.494963\n",
      "Accuracy : 89.03\n",
      "epoch : 3 | loss : 0.420856\n",
      "Accuracy : 89.90\n",
      "epoch : 4 | loss : 0.386201\n",
      "Accuracy : 90.52\n",
      "epoch : 5 | loss : 0.365190\n",
      "Accuracy : 90.69\n",
      "epoch : 6 | loss : 0.350675\n",
      "Accuracy : 90.86\n",
      "epoch : 7 | loss : 0.339808\n",
      "Accuracy : 90.89\n",
      "epoch : 8 | loss : 0.331234\n",
      "Accuracy : 90.97\n",
      "epoch : 9 | loss : 0.324198\n",
      "Accuracy : 91.09\n",
      "epoch : 10 | loss : 0.318253\n",
      "Accuracy : 91.21\n",
      "epoch : 11 | loss : 0.313113\n",
      "Accuracy : 91.34\n",
      "epoch : 12 | loss : 0.308596\n",
      "Accuracy : 91.52\n",
      "epoch : 13 | loss : 0.304566\n",
      "Accuracy : 91.61\n",
      "epoch : 14 | loss : 0.300937\n",
      "Accuracy : 91.64\n",
      "epoch : 15 | loss : 0.297639\n",
      "Accuracy : 91.75\n",
      "RMSprop\n",
      "epoch : 1 | loss : 0.310652\n",
      "Accuracy : 94.03\n",
      "epoch : 2 | loss : 0.148139\n",
      "Accuracy : 95.81\n",
      "epoch : 3 | loss : 0.103716\n",
      "Accuracy : 96.60\n",
      "epoch : 4 | loss : 0.079155\n",
      "Accuracy : 97.04\n",
      "epoch : 5 | loss : 0.062624\n",
      "Accuracy : 97.04\n",
      "epoch : 6 | loss : 0.049787\n",
      "Accuracy : 97.09\n",
      "epoch : 7 | loss : 0.039692\n",
      "Accuracy : 97.21\n",
      "epoch : 8 | loss : 0.031879\n",
      "Accuracy : 97.26\n",
      "epoch : 9 | loss : 0.025480\n",
      "Accuracy : 97.12\n",
      "epoch : 10 | loss : 0.020563\n",
      "Accuracy : 96.88\n",
      "epoch : 11 | loss : 0.017322\n",
      "Accuracy : 96.97\n",
      "epoch : 12 | loss : 0.015030\n",
      "Accuracy : 97.13\n",
      "epoch : 13 | loss : 0.013684\n",
      "Accuracy : 97.54\n",
      "epoch : 14 | loss : 0.011484\n",
      "Accuracy : 96.55\n",
      "epoch : 15 | loss : 0.010799\n",
      "Accuracy : 96.80\n"
     ]
    }
   ],
   "source": [
    "# 총 4가지 optimizer를 사용하여 학습\n",
    "for optimizer_name, optimizer in optimizer_dict.items():\n",
    "    print(optimizer_name)\n",
    "    for epoch in epochs:\n",
    "        cost = 0\n",
    "        for images, labels in dataset1_loader: # dataloader는 image와 label로 구성\n",
    "            # 하나의 Tensor에 데이터 784(28x28)개가 담긴 리스트가 100개 들어있음\n",
    "            # 그리고 그것이 총 dataset1_loader의 len인 600개가 존재\n",
    "            images = images.reshape(100, 784)\n",
    "\n",
    "            model_dict[optimizer_name].zero_grad()\n",
    "\n",
    "            # feed forward\n",
    "            predict = model_dict[optimizer_name].forward(images)\n",
    "\n",
    "            # loss 값 구하기\n",
    "            loss = loss_function(predict, labels) # 예측된 것과 label이 얼마나 차이가 나는지\n",
    "\n",
    "            # back propagation\n",
    "            loss.backward()\n",
    "\n",
    "            # optimizer update\n",
    "            optimizer.step()\n",
    "\n",
    "            cost += loss # 총 600번의 loss를 더한다\n",
    "\n",
    "        with torch.no_grad(): # 추론 시 미분하지 않겠다\n",
    "            total = 0\n",
    "            correct = 0\n",
    "            for images, labels in dataset2_loader:\n",
    "                images = images.reshape(100, 784)\n",
    "\n",
    "                outputs = model_dict[optimizer_name].forward(images)\n",
    "\n",
    "                # torch.max에서 두 번째 인자는 dim을 의미\n",
    "                # 1로 지정했다는 것은 하나의 행에서 가장 큰 값을 찾겠다는 것\n",
    "                # dim을 지정하면 인덱스에 있는 값과 인덱스를 반환\n",
    "                _, predict = torch.max(outputs, 1)\n",
    "                total += labels.size(0)\n",
    "                correct += (predict == labels).sum() # 예측한 것과 labels이 얼마나 일치하는지\n",
    "        \n",
    "        avg_cost = cost / total_batch # loss 값 600개의 평균\n",
    "        accuracy = 100 * (correct / total)\n",
    "\n",
    "        loss_dict[optimizer_name].append(avg_cost.detach().numpy())\n",
    "        accuracy_dict[optimizer_name].append(accuracy)\n",
    "\n",
    "        print(\"epoch : {} | loss : {:.6f}\".format(epoch, avg_cost))\n",
    "        print(\"Accuracy : {:.2f}\".format(accuracy))        "
   ]
  },
  {
   "cell_type": "code",
   "execution_count": 31,
   "id": "0d96071c",
   "metadata": {},
   "outputs": [
    {
     "data": {
      "image/png": "[encoded data removed]",
      "text/plain": [
       "<Figure size 1000x500 with 2 Axes>"
      ]
     },
     "metadata": {},
     "output_type": "display_data"
    }
   ],
   "source": [
    "markers = {'SGD' : 'o', 'Adam' : 'x', 'AdaGrad' : 's', 'RMSprop' : 'D'}\n",
    "plt.figure(figsize=(10, 5))\n",
    "plt.subplot(1, 2, 1)\n",
    "\n",
    "for key in optimizer_case:\n",
    "    plt.plot(epochs, loss_dict[key], marker=markers[key], markevery=100, label=key)\n",
    "plt.xlabel('Epoch')\n",
    "plt.ylabel('Loss')\n",
    "\n",
    "plt.legend()\n",
    "\n",
    "plt.subplot(1, 2, 2)\n",
    "for key in optimizer_case:\n",
    "    plt.plot(epochs, accuracy_dict[key], marker=markers[key], markevery=100, label=key)\n",
    "plt.xlabel('Epoch')\n",
    "plt.ylabel('Accuracy')\n",
    "\n",
    "plt.show()"
   ]
  }
 ],
 "metadata": {
  "kernelspec": {
   "display_name": "venv",
   "language": "python",
   "name": "python3"
  },
  "language_info": {
   "codemirror_mode": {
    "name": "ipython",
    "version": 3
   },
   "file_extension": ".py",
   "mimetype": "text/x-python",
   "name": "python",
   "nbconvert_exporter": "python",
   "pygments_lexer": "ipython3",
   "version": "3.8.10"
  }
 },
 "nbformat": 4,
 "nbformat_minor": 5
}
