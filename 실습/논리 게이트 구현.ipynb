{
 "cells": [
  {
   "cell_type": "markdown",
   "id": "5ac94736",
   "metadata": {},
   "source": [
    "## 논리 게이트 구현1"
   ]
  },
  {
   "cell_type": "code",
   "execution_count": 1,
   "id": "32cb7f7f",
   "metadata": {},
   "outputs": [],
   "source": [
    "# AND 게이트 구현\n",
    "def AND_gate(x1, x2):\n",
    "    w1 = 1\n",
    "    w2 = 1\n",
    "    b = -1\n",
    "    result = x1 * w1 + x2 * w2 + b\n",
    "    if result <= 0:\n",
    "        return 0\n",
    "    else:\n",
    "        return 1"
   ]
  },
  {
   "cell_type": "code",
   "execution_count": 2,
   "id": "197adf1d",
   "metadata": {},
   "outputs": [],
   "source": [
    "# OR 게이트 구현 예\n",
    "def OR_gate(x1, x2):\n",
    "    w1 = 1\n",
    "    w2 = 1\n",
    "    b = -0.5\n",
    "    result = x1 * w1 + x2 * w2 + b\n",
    "    if result <= 0:\n",
    "        return 0\n",
    "    else:\n",
    "        return 1"
   ]
  },
  {
   "cell_type": "code",
   "execution_count": 3,
   "id": "50cc1d7b",
   "metadata": {},
   "outputs": [],
   "source": [
    "# NAND 게이트 구현 예\n",
    "def NAND_gate(x1, x2):\n",
    "    w1 = -0.5\n",
    "    w2 = -0.5\n",
    "    b = 1\n",
    "    result = x1 * w1 + x2 * w2 + b\n",
    "    if result <= 0:\n",
    "        return 0\n",
    "    else:\n",
    "        return 1"
   ]
  },
  {
   "cell_type": "code",
   "execution_count": 4,
   "id": "7396c4f7",
   "metadata": {},
   "outputs": [],
   "source": [
    "# XOR 게이트 구현 예\n",
    "def XOR_gate(x1, x2):\n",
    "    z1 = NAND_gate(x1, x2)\n",
    "    z2 = OR_gate(x1, x2)\n",
    "    y = AND_gate(z1, z2)\n",
    "    \n",
    "    return y"
   ]
  },
  {
   "cell_type": "code",
   "execution_count": 5,
   "id": "76e835e6",
   "metadata": {},
   "outputs": [
    {
     "name": "stdout",
     "output_type": "stream",
     "text": [
      "AND gate\n",
      "(0, 0) -> 0\n",
      "(0, 1) -> 0\n",
      "(1, 0) -> 0\n",
      "(1, 1) -> 1\n"
     ]
    }
   ],
   "source": [
    "print(\"AND gate\")\n",
    "for xs in [(0, 0), (0, 1), (1, 0), (1, 1)]:\n",
    "    y = AND_gate(xs[0], xs[1])\n",
    "    print(str(xs) + \" -> \" + str(y))"
   ]
  },
  {
   "cell_type": "code",
   "execution_count": 6,
   "id": "af7b837c",
   "metadata": {},
   "outputs": [
    {
     "name": "stdout",
     "output_type": "stream",
     "text": [
      "NAND gate\n",
      "(0, 0) -> 1\n",
      "(0, 1) -> 1\n",
      "(1, 0) -> 1\n",
      "(1, 1) -> 0\n"
     ]
    }
   ],
   "source": [
    "print(\"NAND gate\")\n",
    "for xs in [(0, 0), (0, 1), (1, 0), (1, 1)]:\n",
    "    y = NAND_gate(xs[0], xs[1])\n",
    "    print(str(xs) + \" -> \" + str(y))"
   ]
  },
  {
   "cell_type": "code",
   "execution_count": 7,
   "id": "a45cc258",
   "metadata": {},
   "outputs": [
    {
     "name": "stdout",
     "output_type": "stream",
     "text": [
      "OR gate\n",
      "(0, 0) -> 0\n",
      "(0, 1) -> 1\n",
      "(1, 0) -> 1\n",
      "(1, 1) -> 1\n"
     ]
    }
   ],
   "source": [
    "print(\"OR gate\")\n",
    "for xs in [(0, 0), (0, 1), (1, 0), (1, 1)]:\n",
    "    y = OR_gate(xs[0], xs[1])\n",
    "    print(str(xs) + \" -> \" + str(y))"
   ]
  },
  {
   "cell_type": "code",
   "execution_count": 8,
   "id": "7cbe5503",
   "metadata": {},
   "outputs": [
    {
     "name": "stdout",
     "output_type": "stream",
     "text": [
      "XOR_gate\n",
      "(0, 0) -> 0\n",
      "(0, 1) -> 1\n",
      "(1, 0) -> 1\n",
      "(1, 1) -> 0\n"
     ]
    }
   ],
   "source": [
    "print(\"XOR_gate\")\n",
    "for xs in [(0, 0), (0, 1), (1, 0), (1, 1)]:\n",
    "    y = XOR_gate(xs[0], xs[1])\n",
    "    print(str(xs) + \" -> \" + str(y))"
   ]
  },
  {
   "cell_type": "markdown",
   "id": "cb2e397d",
   "metadata": {},
   "source": [
    "## 논리 게이트 구현 2"
   ]
  },
  {
   "cell_type": "code",
   "execution_count": 9,
   "id": "e5da1f33",
   "metadata": {},
   "outputs": [],
   "source": [
    "# 도구 임포트\n",
    "import torch\n",
    "import torch.nn as nn\n",
    "\n",
    "# GPU 연산이 가능할 경우 GPU 연산 수행\n",
    "device = 'cuda' if torch.cuda.is_available() else 'cpu'\n",
    "torch.manual_seed(777)\n",
    "if device == 'cuda':\n",
    "    torch.cuda.manual_seed_all(777)"
   ]
  },
  {
   "cell_type": "code",
   "execution_count": 10,
   "id": "ac9ed1d3",
   "metadata": {},
   "outputs": [],
   "source": [
    "# 각 gate 문제에 해당하는 입력과 출력 정의\n",
    "X = torch.FloatTensor([[0, 0], [0, 1], [1, 0], [1, 1]]).to(device)\n",
    "# Y = torch.FloatTensor([[0], [0], [0], [1]]).to(device) # AND\n",
    "# Y = torch.FloatTensor([[1], [1], [1], [0]]).to(device) # NAND\n",
    "# Y = torch.FloatTensor([[0], [1], [1], [1]]).to(device) # OR\n",
    "Y = torch.FloatTensor([[0], [1], [1], [1]]).to(device) # XOR"
   ]
  },
  {
   "cell_type": "code",
   "execution_count": 14,
   "id": "d28db378",
   "metadata": {},
   "outputs": [],
   "source": [
    "# 다층 퍼셉트론 설계\n",
    "linear1 = nn.Linear(2, 2, bias=True)\n",
    "sigmoid1 = nn.Sigmoid()\n",
    "linear2 = nn.Linear(2, 1, bias=True)\n",
    "sigmoid2 = nn.Sigmoid()\n",
    "model = nn.Sequential(linear1, sigmoid1, linear2, sigmoid2).to(device)"
   ]
  },
  {
   "cell_type": "code",
   "execution_count": 15,
   "id": "acfe879e",
   "metadata": {},
   "outputs": [],
   "source": [
    "# 이진 분류 문제이므로 비용 함수로 크로스엔트로피 함수 사용\n",
    "# nn.BCELoss() - 이진 분류에서 사용하는 크로스엔트로피 함수\n",
    "# 비용 함수와 옵티마이저 정의\n",
    "criterion = torch.nn.BCELoss().to(device)\n",
    "optimizer = torch.optim.SGD(model.parameters(), lr=1)"
   ]
  },
  {
   "cell_type": "code",
   "execution_count": 16,
   "id": "db4fd9ed",
   "metadata": {},
   "outputs": [
    {
     "name": "stdout",
     "output_type": "stream",
     "text": [
      "0 0.5895378589630127\n",
      "100 0.4898300766944885\n",
      "200 0.06494033336639404\n",
      "300 0.02224024385213852\n",
      "400 0.012598431669175625\n",
      "500 0.008618536405265331\n",
      "600 0.0064917439594864845\n",
      "700 0.0051815323531627655\n",
      "800 0.004298396408557892\n",
      "900 0.003665090072900057\n",
      "1000 0.0031898804008960724\n",
      "1100 0.0028208326548337936\n",
      "1200 0.0025262637063860893\n",
      "1300 0.0022859242744743824\n",
      "1400 0.002086350694298744\n",
      "1500 0.0019180189119651914\n",
      "1600 0.0017741984920576215\n",
      "1700 0.001649974612519145\n",
      "1800 0.0015416033565998077\n",
      "1900 0.001446329290047288\n",
      "2000 0.0013618930242955685\n",
      "2100 0.0012865436729043722\n",
      "2200 0.0012189347762614489\n",
      "2300 0.0011579446727409959\n",
      "2400 0.0011026313295587897\n",
      "2500 0.0010522620286792517\n",
      "2600 0.0010062090586870909\n",
      "2700 0.0009639493655413389\n",
      "2800 0.0009250046568922698\n",
      "2900 0.0008890014141798019\n",
      "3000 0.0008556705433875322\n",
      "3100 0.0008247581426985562\n",
      "3200 0.0007959058275446296\n",
      "3300 0.0007689790800213814\n",
      "3400 0.0007437688764184713\n",
      "3500 0.0007201555999927223\n",
      "3600 0.0006979601457715034\n",
      "3700 0.0006770481122657657\n",
      "3800 0.0006573449354618788\n",
      "3900 0.0006387608591467142\n",
      "4000 0.0006211317959241569\n",
      "4100 0.0006044576875865459\n",
      "4200 0.000588604249060154\n",
      "4300 0.0005736310849897563\n",
      "4400 0.0005593441892415285\n",
      "4500 0.0005457138177007437\n",
      "4600 0.0005327695980668068\n",
      "4700 0.0005203625187277794\n",
      "4800 0.000508552067913115\n",
      "4900 0.0004972339957021177\n",
      "5000 0.0004864230868406594\n",
      "5100 0.00047607452142983675\n",
      "5200 0.0004660989798139781\n",
      "5300 0.0004565857816487551\n",
      "5400 0.0004473858280107379\n",
      "5500 0.0004385736829135567\n",
      "5600 0.000430149317253381\n",
      "5700 0.0004219337715767324\n",
      "5800 0.000414091075072065\n",
      "5900 0.0004065317625645548\n",
      "6000 0.000399196200305596\n",
      "6100 0.0003921439638361335\n",
      "6200 0.0003853303496725857\n",
      "6300 0.00037875535781495273\n",
      "6400 0.0003723742556758225\n",
      "6500 0.00036621681647375226\n",
      "6600 0.0003602234646677971\n",
      "6700 0.00035446867696009576\n",
      "6800 0.00034887794754467905\n",
      "6900 0.00034345127642154694\n",
      "7000 0.0003381736751180142\n",
      "7100 0.00033311976585537195\n",
      "7200 0.000328170252032578\n",
      "7300 0.00032335493597202003\n",
      "7400 0.0003187036490999162\n",
      "7500 0.00031414185650646687\n",
      "7600 0.00030974403489381075\n",
      "7700 0.0003054506378248334\n",
      "7800 0.0003012616070918739\n",
      "7900 0.0002971769426949322\n",
      "8000 0.00029324134811758995\n",
      "8100 0.00028935057343915105\n",
      "8200 0.0002856088103726506\n",
      "8300 0.00028194166952744126\n",
      "8400 0.00027834909269586205\n",
      "8500 0.0002748608239926398\n",
      "8600 0.0002714769507292658\n",
      "8700 0.0002681527112144977\n",
      "8800 0.00026491793687455356\n",
      "8900 0.000261772598605603\n",
      "9000 0.0002586869231890887\n",
      "9100 0.0002556757826823741\n",
      "9200 0.0002527242759242654\n",
      "9300 0.0002498026005923748\n",
      "9400 0.00024698529159650207\n",
      "9500 0.00024425744777545333\n",
      "9600 0.0002415444905636832\n",
      "9700 0.00023890608281362802\n",
      "9800 0.00023629750648979098\n",
      "9900 0.00023379328195005655\n",
      "10000 0.0002313337754458189\n",
      "\n",
      "\n",
      "\n",
      "hypothesis 값: \n",
      "tensor([[4.6561e-04],\n",
      "        [9.9979e-01],\n",
      "        [9.9979e-01],\n",
      "        [9.9995e-01]], device='cuda:0', grad_fn=<SigmoidBackward0>)\n",
      "\n",
      "\n",
      "예측 값: \n",
      "tensor([[0.],\n",
      "        [1.],\n",
      "        [1.],\n",
      "        [1.]], device='cuda:0')\n",
      "\n",
      "\n",
      "실제 값: \n",
      "tensor([[0.],\n",
      "        [1.],\n",
      "        [1.],\n",
      "        [1.]], device='cuda:0')\n"
     ]
    }
   ],
   "source": [
    "# 반복 학습 수행\n",
    "for step in range(10001):\n",
    "    optimizer.zero_grad()\n",
    "    hypothesis = model(X)\n",
    "\n",
    "    # 비용 함수\n",
    "    cost = criterion(hypothesis, Y)\n",
    "    cost.backward()\n",
    "    optimizer.step()\n",
    "\n",
    "    if step % 100 == 0: # 100번째 에포크마다 비용 출력\n",
    "        print(step, cost.item())\n",
    "\n",
    "print(\"\\n\\n\")\n",
    "print(\"hypothesis 값: \")\n",
    "print(hypothesis)\n",
    "\n",
    "print(\"\\n\")\n",
    "predicted = (hypothesis > 0.5).float()\n",
    "print(\"예측 값: \")\n",
    "print(predicted)\n",
    "\n",
    "print(\"\\n\")\n",
    "print(\"실제 값: \")\n",
    "print(Y)"
   ]
  }
 ],
 "metadata": {
  "kernelspec": {
   "display_name": "venv",
   "language": "python",
   "name": "python3"
  },
  "language_info": {
   "codemirror_mode": {
    "name": "ipython",
    "version": 3
   },
   "file_extension": ".py",
   "mimetype": "text/x-python",
   "name": "python",
   "nbconvert_exporter": "python",
   "pygments_lexer": "ipython3",
   "version": "3.8.10"
  }
 },
 "nbformat": 4,
 "nbformat_minor": 5
}
